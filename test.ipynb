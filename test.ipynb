{
 "cells": [
  {
   "cell_type": "code",
   "execution_count": 1,
   "id": "cbd25739",
   "metadata": {},
   "outputs": [
    {
     "name": "stdout",
     "output_type": "stream",
     "text": [
      "0\n",
      "2\n",
      "4\n",
      "6\n",
      "8\n",
      "10\n",
      "12\n",
      "14\n",
      "16\n",
      "18\n"
     ]
    }
   ],
   "source": [
    "for p in range(0, 20, 2):\n",
    "    print(p)\n"
   ]
  },
  {
   "cell_type": "code",
   "execution_count": 6,
   "id": "e310b720",
   "metadata": {},
   "outputs": [
    {
     "name": "stdout",
     "output_type": "stream",
     "text": [
      "[0, 1, 2, 3]\n",
      "[2, 3, 4, 5]\n",
      "[4, 5, 6, 7]\n",
      "[6, 7, 8, 9]\n",
      "[8, 9, 10, 11]\n",
      "[10, 11, 12, 13]\n",
      "[12, 13, 14, 15]\n",
      "[14, 15, 16, 17]\n",
      "[16, 17, 18, 19]\n"
     ]
    }
   ],
   "source": [
    "for p in range(0, 20-2, 2):\n",
    "    print([i for i in range(p, p+4)])"
   ]
  },
  {
   "cell_type": "code",
   "execution_count": 9,
   "id": "0ff167bf",
   "metadata": {},
   "outputs": [
    {
     "name": "stdout",
     "output_type": "stream",
     "text": [
      "[0, 1, 2, 3, 4, 5]\n",
      "[6, 7, 8, 9, 10, 11]\n"
     ]
    }
   ],
   "source": [
    "for p in range(0, 12+1-6, 6):\n",
    "    print([i for i in range(p, p+6)])"
   ]
  }
 ],
 "metadata": {
  "kernelspec": {
   "display_name": "env",
   "language": "python",
   "name": "python3"
  },
  "language_info": {
   "codemirror_mode": {
    "name": "ipython",
    "version": 3
   },
   "file_extension": ".py",
   "mimetype": "text/x-python",
   "name": "python",
   "nbconvert_exporter": "python",
   "pygments_lexer": "ipython3",
   "version": "3.12.10"
  }
 },
 "nbformat": 4,
 "nbformat_minor": 5
}
